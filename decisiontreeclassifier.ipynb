{
 "cells": [
  {
   "cell_type": "code",
   "execution_count": 1,
   "id": "c51a4176",
   "metadata": {},
   "outputs": [],
   "source": [
    "import numpy as np\n",
    "import pandas as pd\n",
    "from sklearn import datasets\n",
    "from sklearn.decomposition import PCA\n",
    "import matplotlib.pyplot as plt\n",
    "from sklearn.model_selection import train_test_split"
   ]
  },
  {
   "cell_type": "code",
   "execution_count": 2,
   "id": "3f7446cc",
   "metadata": {},
   "outputs": [
    {
     "data": {
      "text/html": [
       "<div>\n",
       "<style scoped>\n",
       "    .dataframe tbody tr th:only-of-type {\n",
       "        vertical-align: middle;\n",
       "    }\n",
       "\n",
       "    .dataframe tbody tr th {\n",
       "        vertical-align: top;\n",
       "    }\n",
       "\n",
       "    .dataframe thead th {\n",
       "        text-align: right;\n",
       "    }\n",
       "</style>\n",
       "<table border=\"1\" class=\"dataframe\">\n",
       "  <thead>\n",
       "    <tr style=\"text-align: right;\">\n",
       "      <th></th>\n",
       "      <th>sepal_length</th>\n",
       "      <th>sepal_width</th>\n",
       "      <th>petal_length</th>\n",
       "      <th>petal_width</th>\n",
       "      <th>type</th>\n",
       "    </tr>\n",
       "  </thead>\n",
       "  <tbody>\n",
       "    <tr>\n",
       "      <th>0</th>\n",
       "      <td>5.1</td>\n",
       "      <td>3.5</td>\n",
       "      <td>1.4</td>\n",
       "      <td>0.2</td>\n",
       "      <td>0</td>\n",
       "    </tr>\n",
       "    <tr>\n",
       "      <th>1</th>\n",
       "      <td>4.9</td>\n",
       "      <td>3.0</td>\n",
       "      <td>1.4</td>\n",
       "      <td>0.2</td>\n",
       "      <td>0</td>\n",
       "    </tr>\n",
       "    <tr>\n",
       "      <th>2</th>\n",
       "      <td>4.7</td>\n",
       "      <td>3.2</td>\n",
       "      <td>1.3</td>\n",
       "      <td>0.2</td>\n",
       "      <td>0</td>\n",
       "    </tr>\n",
       "    <tr>\n",
       "      <th>3</th>\n",
       "      <td>4.6</td>\n",
       "      <td>3.1</td>\n",
       "      <td>1.5</td>\n",
       "      <td>0.2</td>\n",
       "      <td>0</td>\n",
       "    </tr>\n",
       "    <tr>\n",
       "      <th>4</th>\n",
       "      <td>5.0</td>\n",
       "      <td>3.6</td>\n",
       "      <td>1.4</td>\n",
       "      <td>0.2</td>\n",
       "      <td>0</td>\n",
       "    </tr>\n",
       "    <tr>\n",
       "      <th>...</th>\n",
       "      <td>...</td>\n",
       "      <td>...</td>\n",
       "      <td>...</td>\n",
       "      <td>...</td>\n",
       "      <td>...</td>\n",
       "    </tr>\n",
       "    <tr>\n",
       "      <th>145</th>\n",
       "      <td>6.7</td>\n",
       "      <td>3.0</td>\n",
       "      <td>5.2</td>\n",
       "      <td>2.3</td>\n",
       "      <td>2</td>\n",
       "    </tr>\n",
       "    <tr>\n",
       "      <th>146</th>\n",
       "      <td>6.3</td>\n",
       "      <td>2.5</td>\n",
       "      <td>5.0</td>\n",
       "      <td>1.9</td>\n",
       "      <td>2</td>\n",
       "    </tr>\n",
       "    <tr>\n",
       "      <th>147</th>\n",
       "      <td>6.5</td>\n",
       "      <td>3.0</td>\n",
       "      <td>5.2</td>\n",
       "      <td>2.0</td>\n",
       "      <td>2</td>\n",
       "    </tr>\n",
       "    <tr>\n",
       "      <th>148</th>\n",
       "      <td>6.2</td>\n",
       "      <td>3.4</td>\n",
       "      <td>5.4</td>\n",
       "      <td>2.3</td>\n",
       "      <td>2</td>\n",
       "    </tr>\n",
       "    <tr>\n",
       "      <th>149</th>\n",
       "      <td>5.9</td>\n",
       "      <td>3.0</td>\n",
       "      <td>5.1</td>\n",
       "      <td>1.8</td>\n",
       "      <td>2</td>\n",
       "    </tr>\n",
       "  </tbody>\n",
       "</table>\n",
       "<p>150 rows × 5 columns</p>\n",
       "</div>"
      ],
      "text/plain": [
       "     sepal_length  sepal_width  petal_length  petal_width  type\n",
       "0             5.1          3.5           1.4          0.2     0\n",
       "1             4.9          3.0           1.4          0.2     0\n",
       "2             4.7          3.2           1.3          0.2     0\n",
       "3             4.6          3.1           1.5          0.2     0\n",
       "4             5.0          3.6           1.4          0.2     0\n",
       "..            ...          ...           ...          ...   ...\n",
       "145           6.7          3.0           5.2          2.3     2\n",
       "146           6.3          2.5           5.0          1.9     2\n",
       "147           6.5          3.0           5.2          2.0     2\n",
       "148           6.2          3.4           5.4          2.3     2\n",
       "149           5.9          3.0           5.1          1.8     2\n",
       "\n",
       "[150 rows x 5 columns]"
      ]
     },
     "execution_count": 2,
     "metadata": {},
     "output_type": "execute_result"
    }
   ],
   "source": [
    "\n",
    "\n",
    "# import some data to play with\n",
    "iris = datasets.load_iris()\n",
    "\n",
    "cols=['sepal_length', 'sepal_width', 'petal_length', 'petal_width', 'type']\n",
    "data=iris.data\n",
    "target=iris.target\n",
    "target_classes=iris.target_names.tolist()\n",
    "mapping=dict(enumerate(target_classes))\n",
    "consolidated=pd.concat([pd.DataFrame(data,columns=cols[:-1]),pd.DataFrame(target,columns=[cols[-1]])],axis=1)\n",
    "consolidated"
   ]
  },
  {
   "cell_type": "code",
   "execution_count": 3,
   "id": "fecbc09e",
   "metadata": {},
   "outputs": [
    {
     "data": {
      "text/plain": [
       "Text(0, 0.5, 'Sepal width')"
      ]
     },
     "execution_count": 3,
     "metadata": {},
     "output_type": "execute_result"
    },
    {
     "data": {
      "image/png": "[encoded data removed]",
      "text/plain": [
       "<Figure size 640x480 with 1 Axes>"
      ]
     },
     "metadata": {},
     "output_type": "display_data"
    }
   ],
   "source": [
    "plt.scatter(data[:, 0], data[:, 1], c=target, cmap=plt.cm.Set1, edgecolor=\"k\")\n",
    "plt.xlabel(\"Sepal length\")\n",
    "plt.ylabel(\"Sepal width\")"
   ]
  },
  {
   "cell_type": "code",
   "execution_count": 4,
   "id": "7e808206",
   "metadata": {},
   "outputs": [],
   "source": [
    "class Node():\n",
    "    \n",
    "    __slots__='feature_index','threshold','left','right','information_gain','value'\n",
    "    \n",
    "    def __init__(self, feature_index=None, threshold=None, left=None, right=None, info_gain=None, value=None):\n",
    "     \n",
    "        \n",
    "        \n",
    "        self.feature_index = feature_index\n",
    "        self.threshold = threshold\n",
    "        self.left = left\n",
    "        self.right = right\n",
    "        self.information_gain = info_gain\n",
    "        self.value = value\n"
   ]
  },
  {
   "cell_type": "code",
   "execution_count": 25,
   "id": "b758138c",
   "metadata": {},
   "outputs": [],
   "source": [
    "class _DecisionTreeClassifier:\n",
    "    \n",
    "    __slots__='min_samples_for_split','max_depth','root','feature_indices'\n",
    "    \n",
    "    def __init__(self, min_samples=5, max_depth=3):\n",
    "        \n",
    "        self.root = None\n",
    "        self.min_samples_for_split = min_samples\n",
    "        self.max_depth = max_depth\n",
    "        self.feature_indices=[]\n",
    "    #Defining Gini impurity/index\n",
    "    def gini_index(self,y):\n",
    "        y=list(map(int,y))\n",
    "        \n",
    "        classes=list(np.unique(y))\n",
    "        total=len(y) \n",
    "        gini_val=0.0\n",
    "        for clss in range(len(list(np.bincount(y)))):\n",
    "            gini_val+=((list(np.bincount(y))[clss])/len(y))**2\n",
    "        return 1-gini_val\n",
    "    \n",
    "    def entropy(self,y):\n",
    "        classes=list(np.unique(y))\n",
    "        total=len(y) \n",
    "        entropy=0.0\n",
    "        for clss in range(len(list(np.bincount(y)))):\n",
    "            p=((list(np.bincount(y))[clss])/len(y))\n",
    "            entropy+=-p*np.log2(p)\n",
    "        return entropy\n",
    "    \n",
    "    def calculate_leaf(self,y):\n",
    "        y=list(map(int,y))\n",
    "        return np.argmax(np.bincount(y))\n",
    "    \n",
    "    def split(self, data, feature_index, threshold):\n",
    "        left_branch = np.array([row for row in data if row[feature_index]<=threshold])\n",
    "        right_branch = np.array([row for row in data if row[feature_index]>threshold])\n",
    "        return left_branch,right_branch   \n",
    "    \n",
    "    #Information Gain is calculated for a split by subtracting the weighted entropies of each branch from the original entropy. \n",
    "    #When training a Decision Tree using these metrics, the best split is chosen by maximizing Information Gain.\n",
    "    def info_gain(self,parent,left,right,mode=\"gini\"):\n",
    "        w_left=len(left)/len(y)\n",
    "        w_right=len(right)/len(y)\n",
    "        gain=0.0\n",
    "        if mode=='gini':\n",
    "            gain=self.gini_index(parent)-self.gini_index(left)*w_left-self.gini_index(right)*w_right\n",
    "        else:\n",
    "            gain=self.entropy(parent)-self.entropy(left)*w_left-self.entropy(right)*w_right\n",
    "        return gain\n",
    "        \n",
    "        \n",
    "    \n",
    "    def best_split(self, dataset, num_samples, num_features):\n",
    "       \n",
    "        \n",
    "        # dictionary to store the best split\n",
    "        best_split = {}\n",
    "        max_info_gain = -float(\"inf\") #max lowest number possible\n",
    "        \n",
    "        # loop over all the features\n",
    "        for feature_index in range(num_features):\n",
    "            feature_values = dataset[:, feature_index]\n",
    "            possible_thresholds = np.unique(feature_values)\n",
    "            # loop over all the feature values present in the data\n",
    "            for threshold in possible_thresholds:\n",
    "                # get current split\n",
    "                dataset_left, dataset_right = self.split(dataset, feature_index, threshold)\n",
    "                # check if childs are not null\n",
    "                if len(dataset_left)>0 and len(dataset_right)>0:\n",
    "                    y, left_y, right_y = dataset[:, -1], dataset_left[:, -1], dataset_right[:, -1]\n",
    "                    # compute information gain\n",
    "                    curr_info_gain = self.info_gain(y, left_y, right_y, \"gini\")\n",
    "                    # update the best split if needed\n",
    "                    if curr_info_gain>max_info_gain:\n",
    "                        best_split[\"feature_index\"] = feature_index\n",
    "                        best_split[\"threshold\"] = threshold\n",
    "                        best_split[\"dataset_left\"] = dataset_left\n",
    "                        best_split[\"dataset_right\"] = dataset_right\n",
    "                        best_split[\"info_gain\"] = curr_info_gain\n",
    "                        max_info_gain = curr_info_gain\n",
    "        return  best_split\n",
    "    \n",
    "    def build_tree(self, dataset, curr_depth=0):\n",
    "        \n",
    "        \n",
    "        X, y = dataset[:,:-1], dataset[:,-1]\n",
    "        num_samples, num_features = np.shape(X)\n",
    "        \n",
    "        # split until stopping conditions are met\n",
    "        if num_samples>=self.min_samples_for_split and curr_depth<=self.max_depth:\n",
    "            # find the best split\n",
    "            best_split = self.best_split(dataset, num_samples, num_features)\n",
    "\n",
    "                \n",
    "\n",
    "            # check if information gain is positive\n",
    "            if best_split[\"info_gain\"]>0:\n",
    "                # recur left\n",
    "                left_subtree = self.build_tree(best_split[\"dataset_left\"], curr_depth+1)\n",
    "                # recur right\n",
    "                right_subtree = self.build_tree(best_split[\"dataset_right\"], curr_depth+1)\n",
    "                # return  node at which split occurs (decision node)\n",
    "                return Node(best_split[\"feature_index\"], best_split[\"threshold\"], \n",
    "                            left_subtree, right_subtree, best_split[\"info_gain\"])\n",
    "        \n",
    "        # leaf node\n",
    "        leaf_value = self.calculate_leaf(y)\n",
    "        # return leaf node\n",
    "        return Node(value=leaf_value)   \n",
    "    def print_tree(self, tree=None, indent=\" \"):\n",
    "        \n",
    "        \n",
    "        \n",
    "        if tree is None and indent==\" \": \n",
    "            tree = self.root\n",
    "            \n",
    "\n",
    "        if tree:\n",
    "            if tree.value is not None:\n",
    "                print(tree.value)\n",
    "\n",
    "            else:\n",
    "               \n",
    "                print(\"X_\"+str(tree.feature_index), \"<=\", tree.threshold, \"?\", tree.information_gain)\n",
    "                print(\"%sleft:\" % (indent), end=\"\")\n",
    "                self.print_tree(tree.left, indent + indent)\n",
    "                print(\"%sright:\" % (indent), end=\"\")\n",
    "                self.print_tree(tree.right, indent + indent)\n",
    "            \n",
    "    def fit(self,X,y):\n",
    "        data=np.concatenate([X, y], axis=1)\n",
    "        self.root=self.build_tree(data)\n",
    "        \n",
    "    def make_prediction(self, x, tree):\n",
    "       \n",
    "        \n",
    "        if tree.value!=None: return tree.value\n",
    "        feature_val = x[tree.feature_index]\n",
    "        \n",
    "        if feature_val<=tree.threshold:\n",
    "            return self.make_prediction(x, tree.left)\n",
    "        else:\n",
    "            return self.make_prediction(x, tree.right)\n",
    "    def predict(self, X):\n",
    "        \n",
    "        \n",
    "        preditions = [self.make_prediction(x, self.root) for x in np.array(X)]\n",
    "        return preditions \n",
    "        \n",
    "        \n",
    "        \n",
    "        \n",
    "    \n",
    "    "
   ]
  },
  {
   "cell_type": "code",
   "execution_count": 26,
   "id": "12411a7a",
   "metadata": {},
   "outputs": [],
   "source": [
    "clf=_DecisionTreeClassifier()"
   ]
  },
  {
   "cell_type": "code",
   "execution_count": null,
   "id": "34da1a0d",
   "metadata": {
    "scrolled": true
   },
   "outputs": [],
   "source": []
  },
  {
   "cell_type": "code",
   "execution_count": 27,
   "id": "15111533",
   "metadata": {},
   "outputs": [],
   "source": [
    "X=consolidated.iloc[:,:-1]\n",
    "y=consolidated.iloc[:,-1].values.reshape(-1,1)\n",
    "X_train, X_test, Y_train, Y_test = train_test_split(X, y, test_size=.2, random_state=41)"
   ]
  },
  {
   "cell_type": "code",
   "execution_count": 28,
   "id": "ae496428",
   "metadata": {},
   "outputs": [],
   "source": [
    "clf.fit(X_train,Y_train)"
   ]
  },
  {
   "cell_type": "code",
   "execution_count": null,
   "id": "dcf71412",
   "metadata": {},
   "outputs": [],
   "source": []
  },
  {
   "cell_type": "code",
   "execution_count": 29,
   "id": "5aa62d84",
   "metadata": {},
   "outputs": [
    {
     "data": {
      "text/plain": [
       "0.9333333333333333"
      ]
     },
     "execution_count": 29,
     "metadata": {},
     "output_type": "execute_result"
    }
   ],
   "source": [
    "Y_pred = clf.predict(X_test) \n",
    "from sklearn.metrics import accuracy_score\n",
    "accuracy_score(Y_test, Y_pred)"
   ]
  },
  {
   "cell_type": "code",
   "execution_count": null,
   "id": "c5120b55",
   "metadata": {},
   "outputs": [],
   "source": [
    "#testing inbuilt classifier"
   ]
  },
  {
   "cell_type": "code",
   "execution_count": 30,
   "id": "dcbc1a7a",
   "metadata": {},
   "outputs": [
    {
     "data": {
      "text/html": [
       "<style>#sk-container-id-2 {color: black;background-color: white;}#sk-container-id-2 pre{padding: 0;}#sk-container-id-2 div.sk-toggleable {background-color: white;}#sk-container-id-2 label.sk-toggleable__label {cursor: pointer;display: block;width: 100%;margin-bottom: 0;padding: 0.3em;box-sizing: border-box;text-align: center;}#sk-container-id-2 label.sk-toggleable__label-arrow:before {content: \"▸\";float: left;margin-right: 0.25em;color: #696969;}#sk-container-id-2 label.sk-toggleable__label-arrow:hover:before {color: black;}#sk-container-id-2 div.sk-estimator:hover label.sk-toggleable__label-arrow:before {color: black;}#sk-container-id-2 div.sk-toggleable__content {max-height: 0;max-width: 0;overflow: hidden;text-align: left;background-color: #f0f8ff;}#sk-container-id-2 div.sk-toggleable__content pre {margin: 0.2em;color: black;border-radius: 0.25em;background-color: #f0f8ff;}#sk-container-id-2 input.sk-toggleable__control:checked~div.sk-toggleable__content {max-height: 200px;max-width: 100%;overflow: auto;}#sk-container-id-2 input.sk-toggleable__control:checked~label.sk-toggleable__label-arrow:before {content: \"▾\";}#sk-container-id-2 div.sk-estimator input.sk-toggleable__control:checked~label.sk-toggleable__label {background-color: #d4ebff;}#sk-container-id-2 div.sk-label input.sk-toggleable__control:checked~label.sk-toggleable__label {background-color: #d4ebff;}#sk-container-id-2 input.sk-hidden--visually {border: 0;clip: rect(1px 1px 1px 1px);clip: rect(1px, 1px, 1px, 1px);height: 1px;margin: -1px;overflow: hidden;padding: 0;position: absolute;width: 1px;}#sk-container-id-2 div.sk-estimator {font-family: monospace;background-color: #f0f8ff;border: 1px dotted black;border-radius: 0.25em;box-sizing: border-box;margin-bottom: 0.5em;}#sk-container-id-2 div.sk-estimator:hover {background-color: #d4ebff;}#sk-container-id-2 div.sk-parallel-item::after {content: \"\";width: 100%;border-bottom: 1px solid gray;flex-grow: 1;}#sk-container-id-2 div.sk-label:hover label.sk-toggleable__label {background-color: #d4ebff;}#sk-container-id-2 div.sk-serial::before {content: \"\";position: absolute;border-left: 1px solid gray;box-sizing: border-box;top: 0;bottom: 0;left: 50%;z-index: 0;}#sk-container-id-2 div.sk-serial {display: flex;flex-direction: column;align-items: center;background-color: white;padding-right: 0.2em;padding-left: 0.2em;position: relative;}#sk-container-id-2 div.sk-item {position: relative;z-index: 1;}#sk-container-id-2 div.sk-parallel {display: flex;align-items: stretch;justify-content: center;background-color: white;position: relative;}#sk-container-id-2 div.sk-item::before, #sk-container-id-2 div.sk-parallel-item::before {content: \"\";position: absolute;border-left: 1px solid gray;box-sizing: border-box;top: 0;bottom: 0;left: 50%;z-index: -1;}#sk-container-id-2 div.sk-parallel-item {display: flex;flex-direction: column;z-index: 1;position: relative;background-color: white;}#sk-container-id-2 div.sk-parallel-item:first-child::after {align-self: flex-end;width: 50%;}#sk-container-id-2 div.sk-parallel-item:last-child::after {align-self: flex-start;width: 50%;}#sk-container-id-2 div.sk-parallel-item:only-child::after {width: 0;}#sk-container-id-2 div.sk-dashed-wrapped {border: 1px dashed gray;margin: 0 0.4em 0.5em 0.4em;box-sizing: border-box;padding-bottom: 0.4em;background-color: white;}#sk-container-id-2 div.sk-label label {font-family: monospace;font-weight: bold;display: inline-block;line-height: 1.2em;}#sk-container-id-2 div.sk-label-container {text-align: center;}#sk-container-id-2 div.sk-container {/* jupyter's `normalize.less` sets `[hidden] { display: none; }` but bootstrap.min.css set `[hidden] { display: none !important; }` so we also need the `!important` here to be able to override the default hidden behavior on the sphinx rendered scikit-learn.org. See: https://github.com/scikit-learn/scikit-learn/issues/21755 */display: inline-block !important;position: relative;}#sk-container-id-2 div.sk-text-repr-fallback {display: none;}</style><div id=\"sk-container-id-2\" class=\"sk-top-container\"><div class=\"sk-text-repr-fallback\"><pre>DecisionTreeClassifier(random_state=0)</pre><b>In a Jupyter environment, please rerun this cell to show the HTML representation or trust the notebook. <br />On GitHub, the HTML representation is unable to render, please try loading this page with nbviewer.org.</b></div><div class=\"sk-container\" hidden><div class=\"sk-item\"><div class=\"sk-estimator sk-toggleable\"><input class=\"sk-toggleable__control sk-hidden--visually\" id=\"sk-estimator-id-2\" type=\"checkbox\" checked><label for=\"sk-estimator-id-2\" class=\"sk-toggleable__label sk-toggleable__label-arrow\">DecisionTreeClassifier</label><div class=\"sk-toggleable__content\"><pre>DecisionTreeClassifier(random_state=0)</pre></div></div></div></div></div>"
      ],
      "text/plain": [
       "DecisionTreeClassifier(random_state=0)"
      ]
     },
     "execution_count": 30,
     "metadata": {},
     "output_type": "execute_result"
    }
   ],
   "source": [
    "from sklearn.model_selection import cross_val_score\n",
    "from sklearn.tree import DecisionTreeClassifier\n",
    "clf2 = DecisionTreeClassifier(random_state=0)\n",
    "clf2.fit(X_train,Y_train)"
   ]
  },
  {
   "cell_type": "code",
   "execution_count": null,
   "id": "3c427ce8",
   "metadata": {},
   "outputs": [],
   "source": []
  },
  {
   "cell_type": "code",
   "execution_count": 33,
   "id": "311935f9",
   "metadata": {},
   "outputs": [],
   "source": [
    "from sklearn import tree"
   ]
  },
  {
   "cell_type": "code",
   "execution_count": 34,
   "id": "a2adaab3",
   "metadata": {},
   "outputs": [
    {
     "data": {
      "text/plain": [
       "[Text(0.3333333333333333, 0.9285714285714286, 'x[3] <= 0.7\\ngini = 0.667\\nsamples = 120\\nvalue = [41, 39, 40]'),\n",
       " Text(0.2222222222222222, 0.7857142857142857, 'gini = 0.0\\nsamples = 41\\nvalue = [41, 0, 0]'),\n",
       " Text(0.4444444444444444, 0.7857142857142857, 'x[3] <= 1.55\\ngini = 0.5\\nsamples = 79\\nvalue = [0, 39, 40]'),\n",
       " Text(0.2222222222222222, 0.6428571428571429, 'x[2] <= 5.25\\ngini = 0.051\\nsamples = 38\\nvalue = [0, 37, 1]'),\n",
       " Text(0.1111111111111111, 0.5, 'gini = 0.0\\nsamples = 37\\nvalue = [0, 37, 0]'),\n",
       " Text(0.3333333333333333, 0.5, 'gini = 0.0\\nsamples = 1\\nvalue = [0, 0, 1]'),\n",
       " Text(0.6666666666666666, 0.6428571428571429, 'x[2] <= 5.05\\ngini = 0.093\\nsamples = 41\\nvalue = [0, 2, 39]'),\n",
       " Text(0.5555555555555556, 0.5, 'x[1] <= 2.9\\ngini = 0.375\\nsamples = 8\\nvalue = [0, 2, 6]'),\n",
       " Text(0.4444444444444444, 0.35714285714285715, 'gini = 0.0\\nsamples = 5\\nvalue = [0, 0, 5]'),\n",
       " Text(0.6666666666666666, 0.35714285714285715, 'x[3] <= 1.75\\ngini = 0.444\\nsamples = 3\\nvalue = [0, 2, 1]'),\n",
       " Text(0.5555555555555556, 0.21428571428571427, 'gini = 0.0\\nsamples = 1\\nvalue = [0, 1, 0]'),\n",
       " Text(0.7777777777777778, 0.21428571428571427, 'x[0] <= 5.95\\ngini = 0.5\\nsamples = 2\\nvalue = [0, 1, 1]'),\n",
       " Text(0.6666666666666666, 0.07142857142857142, 'gini = 0.0\\nsamples = 1\\nvalue = [0, 1, 0]'),\n",
       " Text(0.8888888888888888, 0.07142857142857142, 'gini = 0.0\\nsamples = 1\\nvalue = [0, 0, 1]'),\n",
       " Text(0.7777777777777778, 0.5, 'gini = 0.0\\nsamples = 33\\nvalue = [0, 0, 33]')]"
      ]
     },
     "execution_count": 34,
     "metadata": {},
     "output_type": "execute_result"
    },
    {
     "data": {
      "image/png": "[encoded data removed]",
      "text/plain": [
       "<Figure size 640x480 with 1 Axes>"
      ]
     },
     "metadata": {},
     "output_type": "display_data"
    }
   ],
   "source": [
    "tree.plot_tree(clf2)\n",
    "# This is a pretty neat way to visualize the tree "
   ]
  },
  {
   "cell_type": "code",
   "execution_count": 35,
   "id": "03bdb819",
   "metadata": {},
   "outputs": [
    {
     "data": {
      "text/plain": [
       "0.9"
      ]
     },
     "execution_count": 35,
     "metadata": {},
     "output_type": "execute_result"
    }
   ],
   "source": [
    "#comparing our tree with inbuit tree:\n",
    "y_pred=clf2.predict(X_test) \n",
    "accuracy_score(Y_test,y_pred)"
   ]
  },
  {
   "cell_type": "code",
   "execution_count": null,
   "id": "7992ee2a",
   "metadata": {},
   "outputs": [],
   "source": [
    "#Our tree seems a better model but that might not be true since there is a strong possibility that we have overfitted to this data"
   ]
  },
  {
   "cell_type": "code",
   "execution_count": 46,
   "id": "89d8f918",
   "metadata": {},
   "outputs": [],
   "source": [
    "class MyRandomForest():\n",
    "    def __init__(self, num_trees, max_depth=3):\n",
    "        self.num_trees = num_trees\n",
    "        self.max_depth = max_depth\n",
    "        \n",
    "        self.trees = []\n",
    "        for _ in range(num_trees):\n",
    "            self.trees.append(_DecisionTreeClassifier( self.max_depth))\n",
    "                \n",
    "    def get_random_subsets(self, X, y, num_subsets):\n",
    "        num_samples = np.shape(X)[0]\n",
    "\n",
    "        X_y = np.concatenate((X, y.reshape((1, len(y))).T), axis=1)\n",
    "        np.random.shuffle(X_y)\n",
    "\n",
    "        subsets = []\n",
    "        subsample_size = int(num_samples // 2)\n",
    "\n",
    "        for _ in range(num_subsets):\n",
    "            index = np.random.choice(\n",
    "                range(num_samples),\n",
    "                size=np.shape(range(subsample_size)),\n",
    "                replace=True)\n",
    "\n",
    "            X = X_y[index][:, :-1]\n",
    "            y = X_y[index][:, -1]\n",
    "\n",
    "            subsets.append([X, y])\n",
    "\n",
    "        return subsets        \n",
    "        \n",
    "    def fit(self, X, y):\n",
    "        num_features = np.shape(X)[1]\n",
    "        subsets = self.get_random_subsets(X, y, self.num_trees)\n",
    "\n",
    "        for i in range(self.num_trees):\n",
    "            X_subset, y_subset = subsets[i]\n",
    "                \n",
    "            # Feature bagging\n",
    "            idx = np.random.choice(range(num_features), size=num_features, replace=True)\n",
    "            self.trees[i].feature_indices = idx\n",
    "            X_subset = X_subset[:, idx]\n",
    "            self.trees[i].fit(X_subset, y_subset.reshape(-1,1))\n",
    "         \n",
    "    \n",
    "    def predict(self, X):\n",
    "        y_preds = np.empty((X.shape[0], len(self.trees)))\n",
    "                \n",
    "        for i, tree in enumerate(self.trees):\n",
    "            print(tree.feature_indices)\n",
    "            idx = tree.feature_indices\n",
    "            prediction = tree.predict(X.iloc[:, idx])\n",
    "            y_preds[:, i] = prediction\n",
    "            \n",
    "        y_pred = []\n",
    "        for sample_predictions in y_preds:\n",
    "            y_pred.append(np.bincount(sample_predictions.astype('int')).argmax())\n",
    "                \n",
    "        return y_pred"
   ]
  },
  {
   "cell_type": "code",
   "execution_count": 55,
   "id": "401d63f7",
   "metadata": {},
   "outputs": [],
   "source": [
    "rfc=MyRandomForest(36) #selecting 36 trees\n",
    "\n"
   ]
  },
  {
   "cell_type": "code",
   "execution_count": 56,
   "id": "0a94170b",
   "metadata": {},
   "outputs": [],
   "source": [
    "rfc.fit(X_train,Y_train)"
   ]
  },
  {
   "cell_type": "code",
   "execution_count": 57,
   "id": "fecff7d5",
   "metadata": {},
   "outputs": [
    {
     "name": "stdout",
     "output_type": "stream",
     "text": [
      "[0 2 1 0]\n",
      "[2 3 1 0]\n",
      "[2 1 3 2]\n",
      "[3 1 3 2]\n",
      "[3 1 2 3]\n",
      "[3 2 2 2]\n",
      "[0 3 0 1]\n",
      "[2 1 2 0]\n",
      "[1 1 3 0]\n",
      "[0 3 3 2]\n",
      "[3 1 1 1]\n",
      "[0 1 1 2]\n",
      "[2 3 2 2]\n",
      "[0 3 0 2]\n",
      "[0 1 3 0]\n",
      "[1 3 3 3]\n",
      "[3 3 3 2]\n",
      "[1 3 0 2]\n",
      "[0 0 1 0]\n",
      "[3 0 3 3]\n",
      "[0 0 1 0]\n",
      "[3 0 2 2]\n",
      "[0 0 0 1]\n",
      "[2 2 2 0]\n",
      "[3 0 2 0]\n",
      "[1 0 1 0]\n",
      "[2 2 1 0]\n",
      "[3 0 1 1]\n",
      "[3 3 2 0]\n",
      "[1 3 2 1]\n",
      "[2 0 0 2]\n",
      "[3 0 2 1]\n",
      "[3 2 0 2]\n",
      "[1 2 1 1]\n",
      "[2 3 0 2]\n",
      "[3 3 0 0]\n"
     ]
    },
    {
     "data": {
      "text/plain": [
       "[1,\n",
       " 2,\n",
       " 2,\n",
       " 1,\n",
       " 2,\n",
       " 1,\n",
       " 2,\n",
       " 1,\n",
       " 2,\n",
       " 2,\n",
       " 2,\n",
       " 0,\n",
       " 0,\n",
       " 1,\n",
       " 1,\n",
       " 1,\n",
       " 0,\n",
       " 2,\n",
       " 0,\n",
       " 0,\n",
       " 1,\n",
       " 2,\n",
       " 1,\n",
       " 0,\n",
       " 1,\n",
       " 1,\n",
       " 1,\n",
       " 1,\n",
       " 0,\n",
       " 1]"
      ]
     },
     "execution_count": 57,
     "metadata": {},
     "output_type": "execute_result"
    }
   ],
   "source": [
    "rfc.predict(X_test) #Shows the feature indices chosen per tree and the out put after majority voting"
   ]
  },
  {
   "cell_type": "code",
   "execution_count": 58,
   "id": "182c653e",
   "metadata": {},
   "outputs": [
    {
     "name": "stdout",
     "output_type": "stream",
     "text": [
      "[0 2 1 0]\n",
      "[2 3 1 0]\n",
      "[2 1 3 2]\n",
      "[3 1 3 2]\n",
      "[3 1 2 3]\n",
      "[3 2 2 2]\n",
      "[0 3 0 1]\n",
      "[2 1 2 0]\n",
      "[1 1 3 0]\n",
      "[0 3 3 2]\n",
      "[3 1 1 1]\n",
      "[0 1 1 2]\n",
      "[2 3 2 2]\n",
      "[0 3 0 2]\n",
      "[0 1 3 0]\n",
      "[1 3 3 3]\n",
      "[3 3 3 2]\n",
      "[1 3 0 2]\n",
      "[0 0 1 0]\n",
      "[3 0 3 3]\n",
      "[0 0 1 0]\n",
      "[3 0 2 2]\n",
      "[0 0 0 1]\n",
      "[2 2 2 0]\n",
      "[3 0 2 0]\n",
      "[1 0 1 0]\n",
      "[2 2 1 0]\n",
      "[3 0 1 1]\n",
      "[3 3 2 0]\n",
      "[1 3 2 1]\n",
      "[2 0 0 2]\n",
      "[3 0 2 1]\n",
      "[3 2 0 2]\n",
      "[1 2 1 1]\n",
      "[2 3 0 2]\n",
      "[3 3 0 0]\n"
     ]
    },
    {
     "data": {
      "text/plain": [
       "0.8333333333333334"
      ]
     },
     "execution_count": 58,
     "metadata": {},
     "output_type": "execute_result"
    }
   ],
   "source": [
    "y_pred=rfc.predict(X_test)\n",
    "accuracy_score(Y_test,y_pred)"
   ]
  },
  {
   "cell_type": "code",
   "execution_count": 59,
   "id": "020c3ad6",
   "metadata": {},
   "outputs": [],
   "source": [
    "#0.9 not bad!\n"
   ]
  }
 ],
 "metadata": {
  "kernelspec": {
   "display_name": "Python 3 (ipykernel)",
   "language": "python",
   "name": "python3"
  },
  "language_info": {
   "codemirror_mode": {
    "name": "ipython",
    "version": 3
   },
   "file_extension": ".py",
   "mimetype": "text/x-python",
   "name": "python",
   "nbconvert_exporter": "python",
   "pygments_lexer": "ipython3",
   "version": "3.11.1"
  }
 },
 "nbformat": 4,
 "nbformat_minor": 5
}
